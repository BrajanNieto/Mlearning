{
  "nbformat": 4,
  "nbformat_minor": 0,
  "metadata": {
    "colab": {
      "provenance": [],
      "include_colab_link": true
    },
    "kernelspec": {
      "name": "python3",
      "display_name": "Python 3"
    },
    "language_info": {
      "name": "python"
    }
  },
  "cells": [
    {
      "cell_type": "markdown",
      "metadata": {
        "id": "view-in-github",
        "colab_type": "text"
      },
      "source": [
        "<a href=\"https://colab.research.google.com/github/BrajanNieto/Mlearning/blob/main/Maestr%C3%ADa_Hard_SVM_2024_21ipynb.ipynb\" target=\"_parent\"><img src=\"https://colab.research.google.com/assets/colab-badge.svg\" alt=\"Open In Colab\"/></a>"
      ]
    },
    {
      "cell_type": "markdown",
      "source": [
        " # Practice  Hard SVM.\n",
        " ----\n",
        "  \n",
        "  University : UTEC \\\\\n",
        "  Course       : Machine Learning \\\\\n",
        "  Professor    : Cristian López Del Alamo \\\\\n",
        "  Topic        : Hard SVM \\\\\n",
        "  Termina      : 12:45\n",
        "   \n",
        "\n",
        " ----\n",
        "\n",
        "Write the names and surnames of the members and the percentage of participation of each one in the development of the practice:\n",
        " - Integrante 1: Sebastian Lopez Media (33%)\n",
        " - Integrante 2: Brajan Nieto Espinoza (33%)\n",
        " - Integrante 3: Mateo Tapia Chasquibol (33%)\n",
        "\n",
        " ----\n",
        "\n",
        "\n",
        "  \n",
        "\n"
      ],
      "metadata": {
        "id": "h5URl9pFHUec"
      }
    },
    {
      "cell_type": "code",
      "source": [
        "# Loading libraries\n",
        "import numpy as np\n",
        "import pandas as pd\n",
        "import matplotlib.pyplot as plt\n",
        "from cvxopt import matrix, solvers\n",
        "from sklearn.model_selection import train_test_split\n",
        "from sklearn import metrics"
      ],
      "metadata": {
        "id": "sit2AQ1GZDju"
      },
      "execution_count": 27,
      "outputs": []
    },
    {
      "cell_type": "markdown",
      "source": [
        "# Lagrange Multipliers\n",
        "\n",
        "$\\frac{\\partial f(x)}{ \\partial x} = λ \\frac{\\partial g(  x)}{ \\partial x}$\n",
        "\n",
        "----\n",
        "Find the values of  $λ_i$ for each training elements $X_i$.\n",
        "\n",
        "The  ***GetLambda*** function returns a vector that we will call  lambda, such that   $lambda[i]$ will be  $0$, if the element  $X[i]$ does not intersect with any of the lines   $XW^t + b >=1$ o $XW^t + b >=0$\n",
        "\n",
        "Note: X is a matrix, so $X_i$ will be a  $K$-dimensional vector that represent the  i-th  object or  $k$-dimensional point, and  $X_{ij}$ is  the  j-th  element of the  i-th objet.\n",
        "\n",
        "----\n",
        "\n",
        "\n",
        "- **Note: The code for finding the lambda values is provided to you.**"
      ],
      "metadata": {
        "id": "_-o70Lb1qRVv"
      }
    },
    {
      "cell_type": "code",
      "source": [
        "def GetLambda(X, y):\n",
        "    n, m = X.shape\n",
        "    y = y.astype(float).reshape(-1, 1)           # (n,1)\n",
        "    K = (X @ X.T) * (y @ y.T)                   # Kernel lineal con etiquetas\n",
        "    P = matrix(K)\n",
        "    q = matrix(-np.ones(n))\n",
        "    G = matrix(-np.eye(n))\n",
        "    h = matrix(np.zeros(n))\n",
        "    A = matrix(y.T)                              # restricción Σ λ_i y_i = 0\n",
        "    b = matrix(np.zeros(1))\n",
        "\n",
        "    sol = solvers.qp(P, q, G, h, A, b)\n",
        "    return np.array(sol['x']).flatten()"
      ],
      "metadata": {
        "id": "vI6Hn-6UUV1I"
      },
      "execution_count": 28,
      "outputs": []
    },
    {
      "cell_type": "markdown",
      "source": [
        "## 2 Calculation of the Weights W\n",
        "$W_j = \\sum_{i=0}^n \\lambda_iy_ix_{ij}$  \n",
        "\n",
        "----\n",
        "Where: $λ_i$ represent  $i-th$ lagrange multiplier, $W_j$ is the $j-th$ weight,   $x_{ij}$ denotes the value of feacture $(j)$ for the $(i)-th$ training objetc, and $y_i$ is the expected output (1 or -1) for the $i-th$ object.\n",
        "\n",
        "$W_j = \\sum_{i=0}^n \\lambda_iy_ix_{ij}$  \n",
        "Note that the summation only includes elements for which the Lagrange\n",
        "\n",
        "----\n",
        "\n",
        "multiplier $lamnda_i$ is nonzero.\n",
        "\n"
      ],
      "metadata": {
        "id": "Lbvs2lvNlmNa"
      }
    },
    {
      "cell_type": "code",
      "source": [
        "\n",
        "def Get_W(X, y, lambdas):\n",
        "    \"\"\"\n",
        "    Calcula el vector de pesos W = Σ λ_i y_i x_i.\n",
        "    \"\"\"\n",
        "    X = X.astype(float)                          # (n,m)\n",
        "    y = y.astype(float).reshape(-1, 1)           # (n,1)\n",
        "    lambdas = lambdas.reshape(-1, 1)             # (n,1)\n",
        "    W = np.sum(lambdas * y * X, axis=0).reshape(-1, 1)   # (m,1)\n",
        "    return W\n"
      ],
      "metadata": {
        "id": "xJwm8DaClJ-f"
      },
      "execution_count": 29,
      "outputs": []
    },
    {
      "cell_type": "markdown",
      "source": [
        "## Finding the Bias (b)\n",
        "\n",
        "$XW^t + b = 0$\n",
        "\n",
        "$b = - \\frac{1}{n}∑_{i=0}^n X_iW^t$\n",
        "\n",
        "Where $X_i$ is a $k$-dimensional vector representing the $i$-th object, and $k$ is the number of features of the object.\n",
        "\n"
      ],
      "metadata": {
        "id": "wctPuU-jnU0Q"
      }
    },
    {
      "cell_type": "code",
      "source": [
        "\n",
        "def Get_b(X, y, W, lambdas, tol=1e-5):\n",
        "    \"\"\"\n",
        "    Calcula el sesgo b usando los vectores de soporte (λ_i > tol).\n",
        "    \"\"\"\n",
        "    idx = lambdas > tol\n",
        "    if np.any(idx):\n",
        "        b_vals = y[idx] - (X[idx] @ W).flatten()\n",
        "        return float(b_vals.mean())\n",
        "    # Fallback si no se detectan SV\n",
        "    return float(-(X @ W).mean())"
      ],
      "metadata": {
        "id": "IujB29jtnUl7"
      },
      "execution_count": 30,
      "outputs": []
    },
    {
      "cell_type": "markdown",
      "source": [
        "## Testing Stage\n",
        "\n",
        "----\n",
        "For this stage, one should only calculate :\n",
        "\n",
        "- $f(X_j) = X_jW^t + b$\n",
        "\n",
        "But since we have already calculated the values of the parameters $W$ and  $b$, then by substituting we have :\n",
        "\n",
        "- $f(X_j) = \\sum_{i=0}^n \\lambda_iy_i<X_{i},X_{j}> + b$\n",
        "\n",
        "Donde: $X_i$ is the i-th  training vector and  $X_j$   is the new vector that passes through the model for predicting the class (1 or -1)\n",
        "\n",
        "Finally, to determine which class the new vector $X_j$   belongs to, it is sufficient to check the sign of f(X_j).\n",
        "\n",
        "  - **If $f(X_j) >=0$ then $Y_j$ = 1 else $Y_j = -1$**\n",
        "  -----"
      ],
      "metadata": {
        "id": "k7L3GAtNoUo7"
      }
    },
    {
      "cell_type": "code",
      "source": [
        "def Test(X, W, b):\n",
        "    \"\"\"\n",
        "    Devuelve los valores de decisión f(x) = W·x + b.\n",
        "    \"\"\"\n",
        "    return (X @ W).flatten() + b\n"
      ],
      "metadata": {
        "id": "froBqp3Mp9C5"
      },
      "execution_count": 31,
      "outputs": []
    },
    {
      "cell_type": "markdown",
      "source": [],
      "metadata": {
        "id": "jymUFe2TiM0G"
      }
    },
    {
      "cell_type": "markdown",
      "source": [
        "Database for Testing:\n",
        "[Download](https://docs.google.com/spreadsheets/d/15-E3kiLJ6bCyXuJvSmxYAp2QYMkPX2QlQ597fAsPYy8/edit#gid=0).\n",
        "\n",
        "----\n",
        "Download the database to your disk and use files.upload() to load it onto the drive. The code is provided.\n",
        "----\n",
        "\n",
        "\n",
        "- Split the dataset into 70% for training and 30% for testing.\n",
        "- Add a value of 1 for the first class and -1 for the second class.\n",
        "- In the testing stage, find the number of elements correctly classified and the number of elements incorrectly classified for each class\n",
        "\n",
        "- Create a [confusion matrix](https://scikit-learn.org/stable/modules/generated/sklearn.metrics.confusion_matrix.html) which will show us the efficiency of the method.\n",
        "\n",
        "- Do not forget to normalize the data.\n",
        "\n",
        "- Plot the lines that separate both classes.\n",
        "\n",
        "----\n"
      ],
      "metadata": {
        "id": "LslGSJAprlPm"
      }
    },
    {
      "cell_type": "code",
      "source": [
        "from google.colab import files\n",
        "uploaded = files.upload()\n",
        "data_name = list(uploaded.keys())[0]\n",
        "\n",
        "data = pd.read_csv(data_name)\n",
        "X = data[['sepal.length', 'sepal.width', 'petal.length', 'petal.width']].values\n",
        "y = data['variety'].values                      # ya es ±1\n",
        "\n",
        "X_train, X_test, y_train, y_test = train_test_split(\n",
        "    X, y,\n",
        "    test_size=0.30,\n",
        "    random_state=104,\n",
        "    shuffle=True\n",
        ")\n"
      ],
      "metadata": {
        "id": "iwAZ6rT9Wq2R",
        "outputId": "8574f50e-ffaf-4e1f-ad5b-7c330a45c0b2",
        "colab": {
          "base_uri": "https://localhost:8080/",
          "height": 73
        }
      },
      "execution_count": 32,
      "outputs": [
        {
          "output_type": "display_data",
          "data": {
            "text/plain": [
              "<IPython.core.display.HTML object>"
            ],
            "text/html": [
              "\n",
              "     <input type=\"file\" id=\"files-3a0e076e-60e6-467a-b4bc-f0a593691e99\" name=\"files[]\" multiple disabled\n",
              "        style=\"border:none\" />\n",
              "     <output id=\"result-3a0e076e-60e6-467a-b4bc-f0a593691e99\">\n",
              "      Upload widget is only available when the cell has been executed in the\n",
              "      current browser session. Please rerun this cell to enable.\n",
              "      </output>\n",
              "      <script>// Copyright 2017 Google LLC\n",
              "//\n",
              "// Licensed under the Apache License, Version 2.0 (the \"License\");\n",
              "// you may not use this file except in compliance with the License.\n",
              "// You may obtain a copy of the License at\n",
              "//\n",
              "//      http://www.apache.org/licenses/LICENSE-2.0\n",
              "//\n",
              "// Unless required by applicable law or agreed to in writing, software\n",
              "// distributed under the License is distributed on an \"AS IS\" BASIS,\n",
              "// WITHOUT WARRANTIES OR CONDITIONS OF ANY KIND, either express or implied.\n",
              "// See the License for the specific language governing permissions and\n",
              "// limitations under the License.\n",
              "\n",
              "/**\n",
              " * @fileoverview Helpers for google.colab Python module.\n",
              " */\n",
              "(function(scope) {\n",
              "function span(text, styleAttributes = {}) {\n",
              "  const element = document.createElement('span');\n",
              "  element.textContent = text;\n",
              "  for (const key of Object.keys(styleAttributes)) {\n",
              "    element.style[key] = styleAttributes[key];\n",
              "  }\n",
              "  return element;\n",
              "}\n",
              "\n",
              "// Max number of bytes which will be uploaded at a time.\n",
              "const MAX_PAYLOAD_SIZE = 100 * 1024;\n",
              "\n",
              "function _uploadFiles(inputId, outputId) {\n",
              "  const steps = uploadFilesStep(inputId, outputId);\n",
              "  const outputElement = document.getElementById(outputId);\n",
              "  // Cache steps on the outputElement to make it available for the next call\n",
              "  // to uploadFilesContinue from Python.\n",
              "  outputElement.steps = steps;\n",
              "\n",
              "  return _uploadFilesContinue(outputId);\n",
              "}\n",
              "\n",
              "// This is roughly an async generator (not supported in the browser yet),\n",
              "// where there are multiple asynchronous steps and the Python side is going\n",
              "// to poll for completion of each step.\n",
              "// This uses a Promise to block the python side on completion of each step,\n",
              "// then passes the result of the previous step as the input to the next step.\n",
              "function _uploadFilesContinue(outputId) {\n",
              "  const outputElement = document.getElementById(outputId);\n",
              "  const steps = outputElement.steps;\n",
              "\n",
              "  const next = steps.next(outputElement.lastPromiseValue);\n",
              "  return Promise.resolve(next.value.promise).then((value) => {\n",
              "    // Cache the last promise value to make it available to the next\n",
              "    // step of the generator.\n",
              "    outputElement.lastPromiseValue = value;\n",
              "    return next.value.response;\n",
              "  });\n",
              "}\n",
              "\n",
              "/**\n",
              " * Generator function which is called between each async step of the upload\n",
              " * process.\n",
              " * @param {string} inputId Element ID of the input file picker element.\n",
              " * @param {string} outputId Element ID of the output display.\n",
              " * @return {!Iterable<!Object>} Iterable of next steps.\n",
              " */\n",
              "function* uploadFilesStep(inputId, outputId) {\n",
              "  const inputElement = document.getElementById(inputId);\n",
              "  inputElement.disabled = false;\n",
              "\n",
              "  const outputElement = document.getElementById(outputId);\n",
              "  outputElement.innerHTML = '';\n",
              "\n",
              "  const pickedPromise = new Promise((resolve) => {\n",
              "    inputElement.addEventListener('change', (e) => {\n",
              "      resolve(e.target.files);\n",
              "    });\n",
              "  });\n",
              "\n",
              "  const cancel = document.createElement('button');\n",
              "  inputElement.parentElement.appendChild(cancel);\n",
              "  cancel.textContent = 'Cancel upload';\n",
              "  const cancelPromise = new Promise((resolve) => {\n",
              "    cancel.onclick = () => {\n",
              "      resolve(null);\n",
              "    };\n",
              "  });\n",
              "\n",
              "  // Wait for the user to pick the files.\n",
              "  const files = yield {\n",
              "    promise: Promise.race([pickedPromise, cancelPromise]),\n",
              "    response: {\n",
              "      action: 'starting',\n",
              "    }\n",
              "  };\n",
              "\n",
              "  cancel.remove();\n",
              "\n",
              "  // Disable the input element since further picks are not allowed.\n",
              "  inputElement.disabled = true;\n",
              "\n",
              "  if (!files) {\n",
              "    return {\n",
              "      response: {\n",
              "        action: 'complete',\n",
              "      }\n",
              "    };\n",
              "  }\n",
              "\n",
              "  for (const file of files) {\n",
              "    const li = document.createElement('li');\n",
              "    li.append(span(file.name, {fontWeight: 'bold'}));\n",
              "    li.append(span(\n",
              "        `(${file.type || 'n/a'}) - ${file.size} bytes, ` +\n",
              "        `last modified: ${\n",
              "            file.lastModifiedDate ? file.lastModifiedDate.toLocaleDateString() :\n",
              "                                    'n/a'} - `));\n",
              "    const percent = span('0% done');\n",
              "    li.appendChild(percent);\n",
              "\n",
              "    outputElement.appendChild(li);\n",
              "\n",
              "    const fileDataPromise = new Promise((resolve) => {\n",
              "      const reader = new FileReader();\n",
              "      reader.onload = (e) => {\n",
              "        resolve(e.target.result);\n",
              "      };\n",
              "      reader.readAsArrayBuffer(file);\n",
              "    });\n",
              "    // Wait for the data to be ready.\n",
              "    let fileData = yield {\n",
              "      promise: fileDataPromise,\n",
              "      response: {\n",
              "        action: 'continue',\n",
              "      }\n",
              "    };\n",
              "\n",
              "    // Use a chunked sending to avoid message size limits. See b/62115660.\n",
              "    let position = 0;\n",
              "    do {\n",
              "      const length = Math.min(fileData.byteLength - position, MAX_PAYLOAD_SIZE);\n",
              "      const chunk = new Uint8Array(fileData, position, length);\n",
              "      position += length;\n",
              "\n",
              "      const base64 = btoa(String.fromCharCode.apply(null, chunk));\n",
              "      yield {\n",
              "        response: {\n",
              "          action: 'append',\n",
              "          file: file.name,\n",
              "          data: base64,\n",
              "        },\n",
              "      };\n",
              "\n",
              "      let percentDone = fileData.byteLength === 0 ?\n",
              "          100 :\n",
              "          Math.round((position / fileData.byteLength) * 100);\n",
              "      percent.textContent = `${percentDone}% done`;\n",
              "\n",
              "    } while (position < fileData.byteLength);\n",
              "  }\n",
              "\n",
              "  // All done.\n",
              "  yield {\n",
              "    response: {\n",
              "      action: 'complete',\n",
              "    }\n",
              "  };\n",
              "}\n",
              "\n",
              "scope.google = scope.google || {};\n",
              "scope.google.colab = scope.google.colab || {};\n",
              "scope.google.colab._files = {\n",
              "  _uploadFiles,\n",
              "  _uploadFilesContinue,\n",
              "};\n",
              "})(self);\n",
              "</script> "
            ]
          },
          "metadata": {}
        },
        {
          "output_type": "stream",
          "name": "stdout",
          "text": [
            "Saving DataSet_Iris_2_Clases.csv - Hoja 1.csv to DataSet_Iris_2_Clases.csv - Hoja 1 (7).csv\n"
          ]
        }
      ]
    },
    {
      "cell_type": "code",
      "source": [
        "# Obtaining the values of the parameters W and b, to predict the classes to which the values of X_test belong\n",
        "\n",
        "lambdas = GetLambda(X_train, y_train)\n",
        "W = Get_W(X_train, y_train, lambdas)\n",
        "b = Get_b(X_train, y_train, W, lambdas)\n",
        "\n",
        "# Convert all values greater than 0 to 1, and those less than 0 to -1\n",
        "y_pred = np.sign(Test(X_test, W, b))\n",
        "\n",
        "# We create a confution matrix\n",
        "\n",
        "cm = metrics.confusion_matrix(y_test, y_pred, labels=[1, -1])\n",
        "disp = metrics.ConfusionMatrixDisplay(confusion_matrix=cm, display_labels=[1, -1])\n",
        "disp.plot()\n",
        "plt.show()"
      ],
      "metadata": {
        "id": "8Nmw8Kpxvc-r",
        "outputId": "b7985000-107d-4143-bbf6-b7612bb86dc2",
        "colab": {
          "base_uri": "https://localhost:8080/",
          "height": 640
        }
      },
      "execution_count": 33,
      "outputs": [
        {
          "output_type": "stream",
          "name": "stdout",
          "text": [
            "     pcost       dcost       gap    pres   dres\n",
            " 0: -2.1616e+00 -3.7014e+00  1e+02  1e+01  1e+00\n",
            " 1: -3.9314e-01 -1.5104e+00  8e+00  6e-01  8e-02\n",
            " 2: -1.6945e-01 -9.6670e-01  8e-01  1e-16  1e-14\n",
            " 3: -3.6981e-01 -5.5491e-01  2e-01  6e-17  5e-15\n",
            " 4: -4.6037e-01 -5.7986e-01  1e-01  1e-16  4e-15\n",
            " 5: -5.2366e-01 -5.3509e-01  1e-02  1e-16  4e-15\n",
            " 6: -5.3196e-01 -5.3210e-01  1e-04  1e-16  3e-15\n",
            " 7: -5.3207e-01 -5.3207e-01  1e-06  2e-16  4e-15\n",
            " 8: -5.3207e-01 -5.3207e-01  1e-08  2e-16  3e-15\n",
            "Optimal solution found.\n"
          ]
        },
        {
          "output_type": "display_data",
          "data": {
            "text/plain": [
              "<Figure size 640x480 with 2 Axes>"
            ],
            "image/png": "[encoded data removed]"
          },
          "metadata": {}
        }
      ]
    },
    {
      "cell_type": "markdown",
      "source": [
        "----\n",
        "\n",
        "- Subir el link de su colab a canvas\n",
        "- Disfruten aprendiendo. La única forma de aprender es haciendo.\n",
        "- Buena Suerte.\n",
        "----"
      ],
      "metadata": {
        "id": "dGQYlGzEX8u6"
      }
    }
  ]
}